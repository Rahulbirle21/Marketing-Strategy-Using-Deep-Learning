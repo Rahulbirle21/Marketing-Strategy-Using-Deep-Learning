{
 "cells": [
  {
   "cell_type": "markdown",
   "id": "7e8c236b",
   "metadata": {},
   "source": [
    "# PROJECT : MARKETING CAMPAIGN AND PROFIT PROSPECT ANALYSIS USING DEEP LEARNING"
   ]
  },
  {
   "cell_type": "markdown",
   "id": "b8f49e07",
   "metadata": {},
   "source": [
    "# PART 2 : MODEL BUILDING"
   ]
  },
  {
   "cell_type": "markdown",
   "id": "7b954b5d",
   "metadata": {},
   "source": [
    "# NOTE : The Data Processing And Exploratory Data Analysis (EDA) part of the project is performed in 'Marketing Campaign Strategy (EDA)' file."
   ]
  },
  {
   "cell_type": "markdown",
   "id": "488539a4",
   "metadata": {},
   "source": [
    "# Importing the Modules"
   ]
  },
  {
   "cell_type": "code",
   "execution_count": 1,
   "id": "b3ae55b3",
   "metadata": {},
   "outputs": [],
   "source": [
    "import pandas as pd\n",
    "import numpy as np\n",
    "import matplotlib.pyplot as plt\n",
    "import plotly.graph_objects as go\n",
    "from sklearn.metrics import roc_curve,roc_auc_score\n",
    "import seaborn as sns\n",
    "from sklearn.model_selection import train_test_split\n",
    "from sklearn.preprocessing import StandardScaler\n",
    "from sklearn.metrics import classification_report,confusion_matrix,accuracy_score\n",
    "import tensorflow\n",
    "from tensorflow import keras\n",
    "from tensorflow.keras import Sequential\n",
    "from tensorflow.keras.layers import Dense\n",
    "from tensorflow.keras.callbacks import EarlyStopping\n",
    "import warnings\n",
    "warnings.filterwarnings('ignore')\n"
   ]
  },
  {
   "cell_type": "markdown",
   "id": "49f5e01f",
   "metadata": {},
   "source": [
    "# Loading the Cleaned Data"
   ]
  },
  {
   "cell_type": "code",
   "execution_count": 2,
   "id": "ab79b7ab",
   "metadata": {},
   "outputs": [
    {
     "data": {
      "text/html": [
       "<div>\n",
       "<style scoped>\n",
       "    .dataframe tbody tr th:only-of-type {\n",
       "        vertical-align: middle;\n",
       "    }\n",
       "\n",
       "    .dataframe tbody tr th {\n",
       "        vertical-align: top;\n",
       "    }\n",
       "\n",
       "    .dataframe thead th {\n",
       "        text-align: right;\n",
       "    }\n",
       "</style>\n",
       "<table border=\"1\" class=\"dataframe\">\n",
       "  <thead>\n",
       "    <tr style=\"text-align: right;\">\n",
       "      <th></th>\n",
       "      <th>Unnamed: 0</th>\n",
       "      <th>ID</th>\n",
       "      <th>DemAffl</th>\n",
       "      <th>DemAge</th>\n",
       "      <th>DemClusterGroup</th>\n",
       "      <th>DemGender</th>\n",
       "      <th>LoyalClass</th>\n",
       "      <th>LoyalSpend</th>\n",
       "      <th>LoyalTime</th>\n",
       "      <th>Region</th>\n",
       "      <th>TargetBuy</th>\n",
       "    </tr>\n",
       "  </thead>\n",
       "  <tbody>\n",
       "    <tr>\n",
       "      <th>0</th>\n",
       "      <td>0</td>\n",
       "      <td>17147654</td>\n",
       "      <td>5.000000</td>\n",
       "      <td>53.797152</td>\n",
       "      <td>C</td>\n",
       "      <td>F</td>\n",
       "      <td>Tin</td>\n",
       "      <td>0.01</td>\n",
       "      <td>5.000000</td>\n",
       "      <td>London</td>\n",
       "      <td>0</td>\n",
       "    </tr>\n",
       "    <tr>\n",
       "      <th>1</th>\n",
       "      <td>1</td>\n",
       "      <td>8415498</td>\n",
       "      <td>15.000000</td>\n",
       "      <td>53.797152</td>\n",
       "      <td>C</td>\n",
       "      <td>M</td>\n",
       "      <td>Gold</td>\n",
       "      <td>8000.00</td>\n",
       "      <td>5.000000</td>\n",
       "      <td>London</td>\n",
       "      <td>1</td>\n",
       "    </tr>\n",
       "    <tr>\n",
       "      <th>2</th>\n",
       "      <td>2</td>\n",
       "      <td>12107603</td>\n",
       "      <td>8.676483</td>\n",
       "      <td>53.797152</td>\n",
       "      <td>C</td>\n",
       "      <td>M</td>\n",
       "      <td>Tin</td>\n",
       "      <td>0.01</td>\n",
       "      <td>6.185489</td>\n",
       "      <td>Birmingham</td>\n",
       "      <td>0</td>\n",
       "    </tr>\n",
       "  </tbody>\n",
       "</table>\n",
       "</div>"
      ],
      "text/plain": [
       "   Unnamed: 0        ID    DemAffl     DemAge DemClusterGroup DemGender  \\\n",
       "0           0  17147654   5.000000  53.797152               C         F   \n",
       "1           1   8415498  15.000000  53.797152               C         M   \n",
       "2           2  12107603   8.676483  53.797152               C         M   \n",
       "\n",
       "  LoyalClass  LoyalSpend  LoyalTime      Region  TargetBuy  \n",
       "0        Tin        0.01   5.000000      London          0  \n",
       "1       Gold     8000.00   5.000000      London          1  \n",
       "2        Tin        0.01   6.185489  Birmingham          0  "
      ]
     },
     "execution_count": 2,
     "metadata": {},
     "output_type": "execute_result"
    }
   ],
   "source": [
    "df = pd.read_csv('After_EDA.csv')\n",
    "df.head(3)"
   ]
  },
  {
   "cell_type": "markdown",
   "id": "bde2dcae",
   "metadata": {},
   "source": [
    "# Data Preparation For Model Building"
   ]
  },
  {
   "cell_type": "code",
   "execution_count": 3,
   "id": "5649388b",
   "metadata": {},
   "outputs": [],
   "source": [
    "# Creating a copy of original dataframe for model building purpose\n",
    "df1 = df.copy()"
   ]
  },
  {
   "cell_type": "code",
   "execution_count": 4,
   "id": "1ca025cb",
   "metadata": {},
   "outputs": [],
   "source": [
    "# Dropping the non required features from the dataset\n",
    "\n",
    "df1.drop(['ID','Unnamed: 0'],axis=1,inplace=True)"
   ]
  },
  {
   "cell_type": "code",
   "execution_count": 5,
   "id": "9117127d",
   "metadata": {},
   "outputs": [],
   "source": [
    "# Encoding the categorical columns.\n",
    "\n",
    "df1['DemClusterGroup'] = df1['DemClusterGroup'].replace(['A','B','C','D','E','F','U'],[1,4,6,5,2,3,7])\n",
    "df1['DemGender'] = df1['DemGender'].replace(['M','F','U'],[2,3,1])\n",
    "df1['Region'] = df1['Region'].replace(['London','Midlands','Bristol','Cardiff','Birmingham','Wales','Yorkshire',\n",
    "                                      'Bolton','Nottingham','Leicester','Scotland','Ulster','Trafford'],\n",
    "                                            [13,12,11,10,9,8,7,6,5,4,3,2,1])\n",
    "\n",
    "df1['LoyalClass'] = df1['LoyalClass'].replace(['Silver','Tin','Gold','Platinum'],[4,3,2,1])"
   ]
  },
  {
   "cell_type": "markdown",
   "id": "c9e0e54e",
   "metadata": {},
   "source": [
    "### Note -- Here we've used the ordinal encoding method to encode the categorical features based on the output feature, that is, TargetBuy using the insights generated from the EDA. For example, a category having higher number of buyers has been given a higher order in the encoding, whereas a category having lower number of buyer has been given a lower order."
   ]
  },
  {
   "cell_type": "code",
   "execution_count": 6,
   "id": "5ac96043",
   "metadata": {},
   "outputs": [],
   "source": [
    "# Splitting the data into training and testing sets.\n",
    "x = df1.iloc[:,:-1]\n",
    "y = df1.iloc[:,-1]\n",
    "\n",
    "x_train,x_test,y_train,y_test = train_test_split(x, y, test_size = 0.2, random_state = 50)"
   ]
  },
  {
   "cell_type": "code",
   "execution_count": 7,
   "id": "9151377c",
   "metadata": {},
   "outputs": [],
   "source": [
    "# Scaling the features using StandardScaler\n",
    "sc = StandardScaler()\n",
    "x_train = sc.fit_transform(x_train)\n",
    "x_test = sc.transform(x_test)"
   ]
  },
  {
   "cell_type": "markdown",
   "id": "5df4a466",
   "metadata": {},
   "source": [
    "# DEEP LEARNING MODEL -- ARTIFICIAL NEURAL NETWORK"
   ]
  },
  {
   "cell_type": "code",
   "execution_count": 8,
   "id": "ee5a89c4",
   "metadata": {},
   "outputs": [],
   "source": [
    "# Creating the Model Architecture using Relu, and Sigmoid as activation functions and L2 regularisation.\n",
    "\n",
    "model = Sequential()\n",
    "model.add(Dense(16,activation='relu',input_dim=8,kernel_regularizer=tensorflow.keras.regularizers.l2(0.0001)))\n",
    "model.add(Dense(8,activation='relu',kernel_regularizer=tensorflow.keras.regularizers.l2(0.0001)))\n",
    "model.add(Dense(1,activation='sigmoid'))"
   ]
  },
  {
   "cell_type": "code",
   "execution_count": 9,
   "id": "8117e9e8",
   "metadata": {},
   "outputs": [],
   "source": [
    "# Compiling the model parameters using 'binary_crossentropy' as loss function and 'Adam' as the optimizer\n",
    "model.compile(loss='binary_crossentropy',optimizer='Adam',metrics=['accuracy'])"
   ]
  },
  {
   "cell_type": "code",
   "execution_count": 10,
   "id": "5e681dde",
   "metadata": {},
   "outputs": [],
   "source": [
    "# Setting the Callback parameters to avoid overfitting\n",
    "callback = EarlyStopping(monitor = 'val_loss',min_delta = 0.0001,patience = 10 , verbose = 1, mode = 'auto',\n",
    "                        baseline = None, restore_best_weights = False)"
   ]
  },
  {
   "cell_type": "code",
   "execution_count": 11,
   "id": "f918537d",
   "metadata": {},
   "outputs": [],
   "source": [
    "# Training the ANN model with 150 epochs, using Mini batch gradient descent with a batch size of 1788\n",
    "\n",
    "train = model.fit(x_train, y_train, epochs=150, validation_split=0.2, verbose=0, batch_size=1788, callbacks = callback)"
   ]
  },
  {
   "cell_type": "code",
   "execution_count": 29,
   "id": "65b2a5c9",
   "metadata": {},
   "outputs": [
    {
     "data": {
      "image/png": "[encoded data removed]",
      "text/plain": [
       "<Figure size 640x480 with 1 Axes>"
      ]
     },
     "metadata": {},
     "output_type": "display_data"
    }
   ],
   "source": [
    "# Comparison of Training loss with Testing loss\n",
    "\n",
    "plt.plot(train.history['loss'],label='train')\n",
    "plt.plot(train.history['val_loss'],label='test')\n",
    "plt.xlabel('Number of epochs')\n",
    "plt.ylabel('Training and Testing loss')\n",
    "plt.legend()\n",
    "plt.show()"
   ]
  },
  {
   "cell_type": "markdown",
   "id": "c609738a",
   "metadata": {},
   "source": [
    "### From the line plot, it can be inferred that the loss on testing data has reduced simultaneously with the training loss and the  ANN model has converged well without any overfitting."
   ]
  },
  {
   "cell_type": "code",
   "execution_count": 13,
   "id": "9231504f",
   "metadata": {},
   "outputs": [
    {
     "name": "stdout",
     "output_type": "stream",
     "text": [
      "139/139 [==============================] - 0s 1ms/step\n"
     ]
    },
    {
     "data": {
      "text/plain": [
       "array([[0.02796536],\n",
       "       [0.03464935],\n",
       "       [0.09321474],\n",
       "       ...,\n",
       "       [0.9575336 ],\n",
       "       [0.02178882],\n",
       "       [0.04257416]], dtype=float32)"
      ]
     },
     "execution_count": 13,
     "metadata": {},
     "output_type": "execute_result"
    }
   ],
   "source": [
    "# Predictions made by the ANN model on test data\n",
    "y_pred = model.predict(x_test)\n",
    "y_pred"
   ]
  },
  {
   "cell_type": "code",
   "execution_count": 14,
   "id": "81b1ae5c",
   "metadata": {},
   "outputs": [],
   "source": [
    "# Calculating True positive rate, False positive rate and threshold values\n",
    "fpr, tpr, thresholds = roc_curve(y_test,y_pred)"
   ]
  },
  {
   "cell_type": "code",
   "execution_count": 15,
   "id": "8b6b14fb",
   "metadata": {},
   "outputs": [
    {
     "name": "stdout",
     "output_type": "stream",
     "text": [
      "The optimum threshold value for predictions made by the model is 0.7654432\n"
     ]
    }
   ],
   "source": [
    "# Calculating the optimum threshold value\n",
    "\n",
    "optimum = np.argmax(tpr-fpr)\n",
    "opt_threshold = thresholds[optimum]\n",
    "print('The optimum threshold value for predictions made by the model is', opt_threshold)"
   ]
  },
  {
   "cell_type": "markdown",
   "id": "48a24308",
   "metadata": {},
   "source": [
    "### The optimum threshold value is that value which is closest to the Maximum True positive rate (TPR) value, that is, 1 as well as the farthest from the Maximum False positive rate (FPR) value,that is, 1 . It can be calculated by taking the maximum difference between TPR and FPR."
   ]
  },
  {
   "cell_type": "markdown",
   "id": "1485b2aa",
   "metadata": {},
   "source": [
    "### Since the objective of the project is to identify those customers who can maximise the profit prospects for the company, the final threshold value will be decided by taking into account  the threshold value calculated based on TPR and FPR as well as the value which will maximise the profit prospects for the company."
   ]
  },
  {
   "cell_type": "markdown",
   "id": "213e77d0",
   "metadata": {},
   "source": [
    "# PROFIT PROSPECT ANALYSIS"
   ]
  },
  {
   "cell_type": "code",
   "execution_count": 16,
   "id": "03be5662",
   "metadata": {},
   "outputs": [
    {
     "data": {
      "text/html": [
       "<div>\n",
       "<style scoped>\n",
       "    .dataframe tbody tr th:only-of-type {\n",
       "        vertical-align: middle;\n",
       "    }\n",
       "\n",
       "    .dataframe tbody tr th {\n",
       "        vertical-align: top;\n",
       "    }\n",
       "\n",
       "    .dataframe thead th {\n",
       "        text-align: right;\n",
       "    }\n",
       "</style>\n",
       "<table border=\"1\" class=\"dataframe\">\n",
       "  <thead>\n",
       "    <tr style=\"text-align: right;\">\n",
       "      <th></th>\n",
       "      <th>0</th>\n",
       "      <th>1</th>\n",
       "      <th>2</th>\n",
       "      <th>3</th>\n",
       "      <th>4</th>\n",
       "      <th>5</th>\n",
       "      <th>6</th>\n",
       "      <th>7</th>\n",
       "      <th>TargetBuy</th>\n",
       "      <th>Predicted_probability</th>\n",
       "    </tr>\n",
       "  </thead>\n",
       "  <tbody>\n",
       "    <tr>\n",
       "      <th>0</th>\n",
       "      <td>18.5</td>\n",
       "      <td>38.0</td>\n",
       "      <td>1.0</td>\n",
       "      <td>3.0</td>\n",
       "      <td>4.0</td>\n",
       "      <td>300.0</td>\n",
       "      <td>11.0</td>\n",
       "      <td>13.0</td>\n",
       "      <td>1</td>\n",
       "      <td>0.998902</td>\n",
       "    </tr>\n",
       "    <tr>\n",
       "      <th>1</th>\n",
       "      <td>18.5</td>\n",
       "      <td>33.0</td>\n",
       "      <td>1.0</td>\n",
       "      <td>2.0</td>\n",
       "      <td>4.0</td>\n",
       "      <td>1750.0</td>\n",
       "      <td>9.0</td>\n",
       "      <td>13.0</td>\n",
       "      <td>1</td>\n",
       "      <td>0.998744</td>\n",
       "    </tr>\n",
       "    <tr>\n",
       "      <th>2</th>\n",
       "      <td>18.0</td>\n",
       "      <td>70.0</td>\n",
       "      <td>6.0</td>\n",
       "      <td>3.0</td>\n",
       "      <td>2.0</td>\n",
       "      <td>6000.0</td>\n",
       "      <td>14.0</td>\n",
       "      <td>13.0</td>\n",
       "      <td>1</td>\n",
       "      <td>0.998737</td>\n",
       "    </tr>\n",
       "  </tbody>\n",
       "</table>\n",
       "</div>"
      ],
      "text/plain": [
       "      0     1    2    3    4       5     6     7  TargetBuy  \\\n",
       "0  18.5  38.0  1.0  3.0  4.0   300.0  11.0  13.0          1   \n",
       "1  18.5  33.0  1.0  2.0  4.0  1750.0   9.0  13.0          1   \n",
       "2  18.0  70.0  6.0  3.0  2.0  6000.0  14.0  13.0          1   \n",
       "\n",
       "   Predicted_probability  \n",
       "0               0.998902  \n",
       "1               0.998744  \n",
       "2               0.998737  "
      ]
     },
     "execution_count": 16,
     "metadata": {},
     "output_type": "execute_result"
    }
   ],
   "source": [
    "# Creating a dataframe of the test data and probabilty predicted by the model and sorting it based on probability predicted\n",
    "\n",
    "x_test_df = sc.inverse_transform(x_test)\n",
    "\n",
    "x_test_df = pd.DataFrame(x_test_df)\n",
    "\n",
    "predicted_prob_df = pd.DataFrame(y_pred,columns=['Predicted_probability'])\n",
    "\n",
    "final_df = pd.concat([x_test_df,y_test.reset_index(),predicted_prob_df],axis=1)\n",
    "\n",
    "final_df = final_df.sort_values(by='Predicted_probability',ascending=False).reset_index()\n",
    "\n",
    "final_df = final_df[[0,1,2,3,4,5,6,7,'TargetBuy','Predicted_probability']]\n",
    "\n",
    "final_df.head(3)\n"
   ]
  },
  {
   "cell_type": "markdown",
   "id": "5d3a7c90",
   "metadata": {},
   "source": [
    "## NOTE : To identify the profit prospects, we will group all the customers from the test dataframe 'final_df' into 10 Decile classes."
   ]
  },
  {
   "cell_type": "code",
   "execution_count": 17,
   "id": "ee81de5c",
   "metadata": {},
   "outputs": [],
   "source": [
    "# Creating 10 decile classes for all the customers in 'final_df' dataframe using a list\n",
    "\n",
    "list_ = []\n",
    "for i in range(0,445):\n",
    "    list_.append(1)\n",
    "    \n",
    "for i in range(445,890):\n",
    "    list_.append(2)\n",
    "\n",
    "for i in range(890,1335):\n",
    "    list_.append(3)\n",
    "    \n",
    "for i in range(1135,1580):\n",
    "    list_.append(4)\n",
    "    \n",
    "for i in range(1580,2025):\n",
    "    list_.append(5)\n",
    "    \n",
    "for i in range(2025,2470):\n",
    "    list_.append(6)\n",
    "\n",
    "for i in range(2470,2915):\n",
    "    list_.append(7)\n",
    "    \n",
    "for i in range(2915,3360):\n",
    "    list_.append(8)\n",
    "    \n",
    "for i in range(3360,3805):\n",
    "    list_.append(9)\n",
    "    \n",
    "for i in range(3805,4245):\n",
    "    list_.append(10)"
   ]
  },
  {
   "cell_type": "code",
   "execution_count": 18,
   "id": "103510ef",
   "metadata": {},
   "outputs": [
    {
     "data": {
      "text/html": [
       "<div>\n",
       "<style scoped>\n",
       "    .dataframe tbody tr th:only-of-type {\n",
       "        vertical-align: middle;\n",
       "    }\n",
       "\n",
       "    .dataframe tbody tr th {\n",
       "        vertical-align: top;\n",
       "    }\n",
       "\n",
       "    .dataframe thead th {\n",
       "        text-align: right;\n",
       "    }\n",
       "</style>\n",
       "<table border=\"1\" class=\"dataframe\">\n",
       "  <thead>\n",
       "    <tr style=\"text-align: right;\">\n",
       "      <th></th>\n",
       "      <th>0</th>\n",
       "      <th>1</th>\n",
       "      <th>2</th>\n",
       "      <th>3</th>\n",
       "      <th>4</th>\n",
       "      <th>5</th>\n",
       "      <th>6</th>\n",
       "      <th>7</th>\n",
       "      <th>TargetBuy</th>\n",
       "      <th>Predicted_probability</th>\n",
       "      <th>Decile_class</th>\n",
       "    </tr>\n",
       "  </thead>\n",
       "  <tbody>\n",
       "    <tr>\n",
       "      <th>0</th>\n",
       "      <td>18.5</td>\n",
       "      <td>38.0</td>\n",
       "      <td>1.0</td>\n",
       "      <td>3.0</td>\n",
       "      <td>4.0</td>\n",
       "      <td>300.0</td>\n",
       "      <td>11.0</td>\n",
       "      <td>13.0</td>\n",
       "      <td>1</td>\n",
       "      <td>0.998902</td>\n",
       "      <td>1</td>\n",
       "    </tr>\n",
       "    <tr>\n",
       "      <th>1</th>\n",
       "      <td>18.5</td>\n",
       "      <td>33.0</td>\n",
       "      <td>1.0</td>\n",
       "      <td>2.0</td>\n",
       "      <td>4.0</td>\n",
       "      <td>1750.0</td>\n",
       "      <td>9.0</td>\n",
       "      <td>13.0</td>\n",
       "      <td>1</td>\n",
       "      <td>0.998744</td>\n",
       "      <td>1</td>\n",
       "    </tr>\n",
       "    <tr>\n",
       "      <th>2</th>\n",
       "      <td>18.0</td>\n",
       "      <td>70.0</td>\n",
       "      <td>6.0</td>\n",
       "      <td>3.0</td>\n",
       "      <td>2.0</td>\n",
       "      <td>6000.0</td>\n",
       "      <td>14.0</td>\n",
       "      <td>13.0</td>\n",
       "      <td>1</td>\n",
       "      <td>0.998737</td>\n",
       "      <td>1</td>\n",
       "    </tr>\n",
       "  </tbody>\n",
       "</table>\n",
       "</div>"
      ],
      "text/plain": [
       "      0     1    2    3    4       5     6     7  TargetBuy  \\\n",
       "0  18.5  38.0  1.0  3.0  4.0   300.0  11.0  13.0          1   \n",
       "1  18.5  33.0  1.0  2.0  4.0  1750.0   9.0  13.0          1   \n",
       "2  18.0  70.0  6.0  3.0  2.0  6000.0  14.0  13.0          1   \n",
       "\n",
       "   Predicted_probability  Decile_class  \n",
       "0               0.998902             1  \n",
       "1               0.998744             1  \n",
       "2               0.998737             1  "
      ]
     },
     "execution_count": 18,
     "metadata": {},
     "output_type": "execute_result"
    }
   ],
   "source": [
    "final_df['Decile_class'] = list_\n",
    "final_df.head(3)"
   ]
  },
  {
   "cell_type": "code",
   "execution_count": 20,
   "id": "7b705276",
   "metadata": {},
   "outputs": [
    {
     "name": "stdout",
     "output_type": "stream",
     "text": [
      "Decile_class  TargetBuy\n",
      "1             0             21\n",
      "              1            424\n",
      "2             0             13\n",
      "              1            432\n",
      "3             0             21\n",
      "              1            424\n",
      "4             0            262\n",
      "              1            183\n",
      "5             0            437\n",
      "              1              8\n",
      "6             0            430\n",
      "              1             15\n",
      "7             0            433\n",
      "              1             12\n",
      "8             0            431\n",
      "              1             14\n",
      "9             0            431\n",
      "              1             14\n",
      "10            0            418\n",
      "              1             22\n",
      "dtype: int64\n"
     ]
    },
    {
     "data": {
      "image/png": "[encoded data removed]",
      "text/plain": [
       "<Figure size 640x480 with 1 Axes>"
      ]
     },
     "metadata": {},
     "output_type": "display_data"
    }
   ],
   "source": [
    "# Relationship between decile class and target buy using stacked bar chart\n",
    "\n",
    "print(final_df.groupby(by=['Decile_class','TargetBuy']).size())\n",
    "final_df.groupby(by=['Decile_class','TargetBuy']).size().unstack().plot(kind='bar',stacked=True)\n",
    "plt.xticks(rotation=0)\n",
    "plt.show()"
   ]
  },
  {
   "cell_type": "markdown",
   "id": "249d3206",
   "metadata": {},
   "source": [
    "## Observation\n",
    "* Highest number of buyers belong to the decile class 2 (432) , followed by class 1 and class 3 (424)."
   ]
  },
  {
   "cell_type": "code",
   "execution_count": 22,
   "id": "fd6a10e3",
   "metadata": {},
   "outputs": [
    {
     "name": "stdout",
     "output_type": "stream",
     "text": [
      "                  mean\n",
      "Decile_class          \n",
      "1             0.990433\n",
      "2             0.972844\n",
      "3             0.921850\n",
      "4             0.419794\n",
      "5             0.081993\n",
      "6             0.054358\n",
      "7             0.040357\n",
      "8             0.030891\n",
      "9             0.021391\n",
      "10            0.012093\n"
     ]
    },
    {
     "data": {
      "image/png": "[encoded data removed]",
      "text/plain": [
       "<Figure size 640x480 with 1 Axes>"
      ]
     },
     "metadata": {},
     "output_type": "display_data"
    }
   ],
   "source": [
    "# Average probability of buying the product based on each decile class\n",
    "\n",
    "print(final_df.groupby('Decile_class')['Predicted_probability'].agg(['mean']))\n",
    "final_df.groupby('Decile_class')['Predicted_probability'].agg(['mean']).plot(kind='bar')\n",
    "plt.xticks(rotation=0)\n",
    "plt.ylabel('Mean Probability of buying the product')\n",
    "plt.show()"
   ]
  },
  {
   "cell_type": "markdown",
   "id": "17e9dbdf",
   "metadata": {},
   "source": [
    "## Observation\n",
    "* Only the customers in decile class 1,2 and 3 have a mean probability of buying higher than the threshold probability 0.76 which is calculated based on True Positive Rate (TPR) and False Positive Rate (FPR).\n",
    "* Customers in decile class 1 have the highest mean probability of buying (0.99), followed by class 2 (0.97) and class 3 (0.92)."
   ]
  },
  {
   "cell_type": "markdown",
   "id": "8aa1af85",
   "metadata": {},
   "source": [
    "# NOTE : The insights generated from the above plotted figures will be used to create a final dataframe for profit calculation."
   ]
  },
  {
   "cell_type": "code",
   "execution_count": 23,
   "id": "96f4c766",
   "metadata": {},
   "outputs": [
    {
     "data": {
      "text/html": [
       "<div>\n",
       "<style scoped>\n",
       "    .dataframe tbody tr th:only-of-type {\n",
       "        vertical-align: middle;\n",
       "    }\n",
       "\n",
       "    .dataframe tbody tr th {\n",
       "        vertical-align: top;\n",
       "    }\n",
       "\n",
       "    .dataframe thead th {\n",
       "        text-align: right;\n",
       "    }\n",
       "</style>\n",
       "<table border=\"1\" class=\"dataframe\">\n",
       "  <thead>\n",
       "    <tr style=\"text-align: right;\">\n",
       "      <th></th>\n",
       "      <th>Decile</th>\n",
       "      <th>Total_customers_per_decile</th>\n",
       "      <th>Buyers</th>\n",
       "      <th>Non_buyers</th>\n",
       "      <th>Mean_probability_of_buying</th>\n",
       "    </tr>\n",
       "  </thead>\n",
       "  <tbody>\n",
       "    <tr>\n",
       "      <th>0</th>\n",
       "      <td>1</td>\n",
       "      <td>445</td>\n",
       "      <td>424</td>\n",
       "      <td>21</td>\n",
       "      <td>0.99</td>\n",
       "    </tr>\n",
       "    <tr>\n",
       "      <th>1</th>\n",
       "      <td>2</td>\n",
       "      <td>445</td>\n",
       "      <td>432</td>\n",
       "      <td>13</td>\n",
       "      <td>0.97</td>\n",
       "    </tr>\n",
       "    <tr>\n",
       "      <th>2</th>\n",
       "      <td>3</td>\n",
       "      <td>445</td>\n",
       "      <td>424</td>\n",
       "      <td>21</td>\n",
       "      <td>0.92</td>\n",
       "    </tr>\n",
       "    <tr>\n",
       "      <th>3</th>\n",
       "      <td>4</td>\n",
       "      <td>445</td>\n",
       "      <td>183</td>\n",
       "      <td>262</td>\n",
       "      <td>0.41</td>\n",
       "    </tr>\n",
       "    <tr>\n",
       "      <th>4</th>\n",
       "      <td>5</td>\n",
       "      <td>445</td>\n",
       "      <td>8</td>\n",
       "      <td>437</td>\n",
       "      <td>0.08</td>\n",
       "    </tr>\n",
       "    <tr>\n",
       "      <th>5</th>\n",
       "      <td>6</td>\n",
       "      <td>445</td>\n",
       "      <td>15</td>\n",
       "      <td>430</td>\n",
       "      <td>0.05</td>\n",
       "    </tr>\n",
       "    <tr>\n",
       "      <th>6</th>\n",
       "      <td>7</td>\n",
       "      <td>445</td>\n",
       "      <td>12</td>\n",
       "      <td>433</td>\n",
       "      <td>0.04</td>\n",
       "    </tr>\n",
       "    <tr>\n",
       "      <th>7</th>\n",
       "      <td>8</td>\n",
       "      <td>445</td>\n",
       "      <td>14</td>\n",
       "      <td>431</td>\n",
       "      <td>0.03</td>\n",
       "    </tr>\n",
       "    <tr>\n",
       "      <th>8</th>\n",
       "      <td>9</td>\n",
       "      <td>445</td>\n",
       "      <td>14</td>\n",
       "      <td>431</td>\n",
       "      <td>0.02</td>\n",
       "    </tr>\n",
       "    <tr>\n",
       "      <th>9</th>\n",
       "      <td>10</td>\n",
       "      <td>440</td>\n",
       "      <td>22</td>\n",
       "      <td>418</td>\n",
       "      <td>0.01</td>\n",
       "    </tr>\n",
       "  </tbody>\n",
       "</table>\n",
       "</div>"
      ],
      "text/plain": [
       "   Decile  Total_customers_per_decile  Buyers  Non_buyers  \\\n",
       "0       1                         445     424          21   \n",
       "1       2                         445     432          13   \n",
       "2       3                         445     424          21   \n",
       "3       4                         445     183         262   \n",
       "4       5                         445       8         437   \n",
       "5       6                         445      15         430   \n",
       "6       7                         445      12         433   \n",
       "7       8                         445      14         431   \n",
       "8       9                         445      14         431   \n",
       "9      10                         440      22         418   \n",
       "\n",
       "   Mean_probability_of_buying  \n",
       "0                        0.99  \n",
       "1                        0.97  \n",
       "2                        0.92  \n",
       "3                        0.41  \n",
       "4                        0.08  \n",
       "5                        0.05  \n",
       "6                        0.04  \n",
       "7                        0.03  \n",
       "8                        0.02  \n",
       "9                        0.01  "
      ]
     },
     "execution_count": 23,
     "metadata": {},
     "output_type": "execute_result"
    }
   ],
   "source": [
    "# Creating a final_profit_df containing Buyers,non buyers and mean probability of buying based on each decile class.\n",
    "\n",
    "final_profit_df = pd.DataFrame({\n",
    "    'Decile': [1,2,3,4,5,6,7,8,9,10],\n",
    "    'Total_customers_per_decile': [445,445,445,445,445,445,445,445,445,440],\n",
    "    'Buyers': [424,432,424,183,8,15,12,14,14,22],\n",
    "    'Non_buyers': [21,13,21,262,437,430,433,431,431,418],\n",
    "    'Mean_probability_of_buying': [0.99,0.97,0.92,0.41,0.08,0.05,0.04,0.03,0.02,0.01]\n",
    "})\n",
    "\n",
    "final_profit_df"
   ]
  },
  {
   "cell_type": "markdown",
   "id": "8d80f3b3",
   "metadata": {},
   "source": [
    "## NOTE -- According to the data given by the company, revenue generated from each successful buyer is 15000 Euros, whereas the marketing and promotional expense costs 4000 Euros to the company. Therefore, the net profit from each successful buyer stands at 11000 Euros. These figures will be used for profit calculation."
   ]
  },
  {
   "cell_type": "code",
   "execution_count": 24,
   "id": "bdc55790",
   "metadata": {},
   "outputs": [
    {
     "data": {
      "text/html": [
       "<div>\n",
       "<style scoped>\n",
       "    .dataframe tbody tr th:only-of-type {\n",
       "        vertical-align: middle;\n",
       "    }\n",
       "\n",
       "    .dataframe tbody tr th {\n",
       "        vertical-align: top;\n",
       "    }\n",
       "\n",
       "    .dataframe thead th {\n",
       "        text-align: right;\n",
       "    }\n",
       "</style>\n",
       "<table border=\"1\" class=\"dataframe\">\n",
       "  <thead>\n",
       "    <tr style=\"text-align: right;\">\n",
       "      <th></th>\n",
       "      <th>Decile</th>\n",
       "      <th>Total_customers_per_decile</th>\n",
       "      <th>Buyers</th>\n",
       "      <th>Non_buyers</th>\n",
       "      <th>Mean_probability_of_buying</th>\n",
       "      <th>Total_Profit</th>\n",
       "    </tr>\n",
       "  </thead>\n",
       "  <tbody>\n",
       "    <tr>\n",
       "      <th>1</th>\n",
       "      <td>2</td>\n",
       "      <td>445</td>\n",
       "      <td>432</td>\n",
       "      <td>13</td>\n",
       "      <td>0.97</td>\n",
       "      <td>4700000</td>\n",
       "    </tr>\n",
       "    <tr>\n",
       "      <th>0</th>\n",
       "      <td>1</td>\n",
       "      <td>445</td>\n",
       "      <td>424</td>\n",
       "      <td>21</td>\n",
       "      <td>0.99</td>\n",
       "      <td>4580000</td>\n",
       "    </tr>\n",
       "    <tr>\n",
       "      <th>2</th>\n",
       "      <td>3</td>\n",
       "      <td>445</td>\n",
       "      <td>424</td>\n",
       "      <td>21</td>\n",
       "      <td>0.92</td>\n",
       "      <td>4580000</td>\n",
       "    </tr>\n",
       "    <tr>\n",
       "      <th>3</th>\n",
       "      <td>4</td>\n",
       "      <td>445</td>\n",
       "      <td>183</td>\n",
       "      <td>262</td>\n",
       "      <td>0.41</td>\n",
       "      <td>965000</td>\n",
       "    </tr>\n",
       "    <tr>\n",
       "      <th>9</th>\n",
       "      <td>10</td>\n",
       "      <td>440</td>\n",
       "      <td>22</td>\n",
       "      <td>418</td>\n",
       "      <td>0.01</td>\n",
       "      <td>-1430000</td>\n",
       "    </tr>\n",
       "    <tr>\n",
       "      <th>5</th>\n",
       "      <td>6</td>\n",
       "      <td>445</td>\n",
       "      <td>15</td>\n",
       "      <td>430</td>\n",
       "      <td>0.05</td>\n",
       "      <td>-1555000</td>\n",
       "    </tr>\n",
       "    <tr>\n",
       "      <th>7</th>\n",
       "      <td>8</td>\n",
       "      <td>445</td>\n",
       "      <td>14</td>\n",
       "      <td>431</td>\n",
       "      <td>0.03</td>\n",
       "      <td>-1570000</td>\n",
       "    </tr>\n",
       "    <tr>\n",
       "      <th>8</th>\n",
       "      <td>9</td>\n",
       "      <td>445</td>\n",
       "      <td>14</td>\n",
       "      <td>431</td>\n",
       "      <td>0.02</td>\n",
       "      <td>-1570000</td>\n",
       "    </tr>\n",
       "    <tr>\n",
       "      <th>6</th>\n",
       "      <td>7</td>\n",
       "      <td>445</td>\n",
       "      <td>12</td>\n",
       "      <td>433</td>\n",
       "      <td>0.04</td>\n",
       "      <td>-1600000</td>\n",
       "    </tr>\n",
       "    <tr>\n",
       "      <th>4</th>\n",
       "      <td>5</td>\n",
       "      <td>445</td>\n",
       "      <td>8</td>\n",
       "      <td>437</td>\n",
       "      <td>0.08</td>\n",
       "      <td>-1660000</td>\n",
       "    </tr>\n",
       "  </tbody>\n",
       "</table>\n",
       "</div>"
      ],
      "text/plain": [
       "   Decile  Total_customers_per_decile  Buyers  Non_buyers  \\\n",
       "1       2                         445     432          13   \n",
       "0       1                         445     424          21   \n",
       "2       3                         445     424          21   \n",
       "3       4                         445     183         262   \n",
       "9      10                         440      22         418   \n",
       "5       6                         445      15         430   \n",
       "7       8                         445      14         431   \n",
       "8       9                         445      14         431   \n",
       "6       7                         445      12         433   \n",
       "4       5                         445       8         437   \n",
       "\n",
       "   Mean_probability_of_buying  Total_Profit  \n",
       "1                        0.97       4700000  \n",
       "0                        0.99       4580000  \n",
       "2                        0.92       4580000  \n",
       "3                        0.41        965000  \n",
       "9                        0.01      -1430000  \n",
       "5                        0.05      -1555000  \n",
       "7                        0.03      -1570000  \n",
       "8                        0.02      -1570000  \n",
       "6                        0.04      -1600000  \n",
       "4                        0.08      -1660000  "
      ]
     },
     "execution_count": 24,
     "metadata": {},
     "output_type": "execute_result"
    }
   ],
   "source": [
    "# Calculating profit and loss for each group of customer\n",
    "profit_cal = []\n",
    "revenue_from_successful_buyer = 15000\n",
    "promotion_cost = 4000\n",
    "net_profit = 11000\n",
    "\n",
    "buyer_list = final_profit_df['Buyers'].tolist()  # converting the dataframe column into list for profit calculation\n",
    "non_buyers_list = final_profit_df['Non_buyers'].tolist()\n",
    "\n",
    "for profit,loss in zip(buyer_list,non_buyers_list): \n",
    "    total_revenue_from_buyers = (profit * 11000)\n",
    "    total_loss_from_non_buyers = (loss * 4000)\n",
    "    profit_cal.append(total_revenue_from_buyers - total_loss_from_non_buyers)\n",
    " \n",
    "# Inserting the Total_profit column to the dataframe\n",
    "final_profit_df['Total_Profit'] = profit_cal\n",
    "final_profit_df = final_profit_df.sort_values(by='Total_Profit',ascending=False)\n",
    "final_profit_df"
   ]
  },
  {
   "cell_type": "code",
   "execution_count": 28,
   "id": "486c520d",
   "metadata": {},
   "outputs": [
    {
     "name": "stdout",
     "output_type": "stream",
     "text": [
      "If the company targets all the customer, then it will generate a net profit of ,  5440000 \n",
      "\n",
      "If the company targets only the customers from Class 1 to 3, it will generate a profit of,  13860000 \n",
      "\n",
      "Percentage Profit Increase based on our strategy :  155.0 %\n"
     ]
    }
   ],
   "source": [
    "target_all = final_profit_df['Total_Profit'].sum()\n",
    "\n",
    "target_specific = final_profit_df['Total_Profit'].iloc[:3].sum()\n",
    "\n",
    "difference = target_specific - target_all\n",
    "\n",
    "print('If the company targets all the customer, then it will generate a net profit of , ', target_all,'\\n')\n",
    "\n",
    "print('If the company targets only the customers from Class 1 to 3, it will generate a profit of, ', target_specific, '\\n')\n",
    "\n",
    "print('Percentage Profit Increase based on our strategy : ', np.round_((difference / target_all)*100), '%')"
   ]
  },
  {
   "cell_type": "markdown",
   "id": "d28fb344",
   "metadata": {},
   "source": [
    "## Observations\n",
    "* The Customers from decile class 1 to 3, having mean probability of buying above 0.76 (calculated based on TPR and FPR values) will generate the net profit of 1,386,0000 Euros for the company.\n",
    "* Marketing expenses on the customers from class 4 to 9 (having mean probability of buying below 0.76) will result in a net loss of 8,420,000 Euros to the company.\n",
    "* If the company targets all the customers without any strategy, then it will generate a net profit of 3,831,000 Euros.\n",
    "* If the company follows our model and targets customers having  mean probability of buying higher than 0.76 , its profit is likely to increase by 155 %."
   ]
  },
  {
   "cell_type": "markdown",
   "id": "ec826cd1",
   "metadata": {},
   "source": [
    "## NOTE -- The probability threshold value calculated based on True Positive Rate (TPR) and False Positive Rate (FPR) and our profit prospect analysis is 0.76. Thus it will be the final threshold value for our model to predict the output."
   ]
  },
  {
   "cell_type": "markdown",
   "id": "d776c2de",
   "metadata": {},
   "source": [
    "# MODEL EVALUATION"
   ]
  },
  {
   "cell_type": "code",
   "execution_count": 26,
   "id": "eb17331a",
   "metadata": {},
   "outputs": [
    {
     "name": "stdout",
     "output_type": "stream",
     "text": [
      "[[2838   59]\n",
      " [  92 1456]] \n",
      "\n",
      "              precision    recall  f1-score   support\n",
      "\n",
      "           0       0.97      0.98      0.97      2897\n",
      "           1       0.96      0.94      0.95      1548\n",
      "\n",
      "    accuracy                           0.97      4445\n",
      "   macro avg       0.96      0.96      0.96      4445\n",
      "weighted avg       0.97      0.97      0.97      4445\n",
      " \n",
      "\n",
      "Accuracy of the model is 96.6 %\n"
     ]
    }
   ],
   "source": [
    "# If the predicted probability is equal to or greater than 0.76, the model will predict 1, else it will predict 0\n",
    "\n",
    "predictions = np.where(y_pred >= 0.76,1,0)\n",
    "print(confusion_matrix(y_test,predictions), '\\n')\n",
    "print(classification_report(y_test,predictions), '\\n')\n",
    "print('Accuracy of the model is', round(accuracy_score(y_test,predictions)*100,2), '%')"
   ]
  },
  {
   "cell_type": "markdown",
   "id": "4e3f2f5f",
   "metadata": {},
   "source": [
    "###  The model accuracy came out to be 97 % (approx) ."
   ]
  },
  {
   "cell_type": "markdown",
   "id": "3dc4d04b",
   "metadata": {},
   "source": [
    "## Now we will make predictions for all the 22,223 customers based on the ANN model and create a Dataframe which will show whether a particular customer will generate profit or loss for the company."
   ]
  },
  {
   "cell_type": "code",
   "execution_count": 31,
   "id": "3a7e14b9",
   "metadata": {},
   "outputs": [],
   "source": [
    "# Scaling the inputs\n",
    "x = sc.fit_transform(x)"
   ]
  },
  {
   "cell_type": "code",
   "execution_count": 32,
   "id": "044811ab",
   "metadata": {},
   "outputs": [
    {
     "name": "stdout",
     "output_type": "stream",
     "text": [
      "695/695 [==============================] - 1s 710us/step\n"
     ]
    },
    {
     "data": {
      "text/plain": [
       "array([[0.01271981],\n",
       "       [0.99096185],\n",
       "       [0.06246743],\n",
       "       ...,\n",
       "       [0.99548393],\n",
       "       [0.10362507],\n",
       "       [0.9344079 ]], dtype=float32)"
      ]
     },
     "execution_count": 32,
     "metadata": {},
     "output_type": "execute_result"
    }
   ],
   "source": [
    "predictions = model.predict(x)\n",
    "predictions"
   ]
  },
  {
   "cell_type": "code",
   "execution_count": 33,
   "id": "52675035",
   "metadata": {},
   "outputs": [],
   "source": [
    "# Assigning Profit and Loss in a list based on probability threshold value (0.76)\n",
    "\n",
    "final = []\n",
    "for i in predictions:\n",
    "    if i >= 0.76:\n",
    "        final.append('Profit')\n",
    "    else:\n",
    "        final.append('Loss')"
   ]
  },
  {
   "cell_type": "code",
   "execution_count": 34,
   "id": "e4373d0b",
   "metadata": {},
   "outputs": [
    {
     "data": {
      "text/html": [
       "<div>\n",
       "<style scoped>\n",
       "    .dataframe tbody tr th:only-of-type {\n",
       "        vertical-align: middle;\n",
       "    }\n",
       "\n",
       "    .dataframe tbody tr th {\n",
       "        vertical-align: top;\n",
       "    }\n",
       "\n",
       "    .dataframe thead th {\n",
       "        text-align: right;\n",
       "    }\n",
       "</style>\n",
       "<table border=\"1\" class=\"dataframe\">\n",
       "  <thead>\n",
       "    <tr style=\"text-align: right;\">\n",
       "      <th></th>\n",
       "      <th>Prediction</th>\n",
       "    </tr>\n",
       "  </thead>\n",
       "  <tbody>\n",
       "    <tr>\n",
       "      <th>0</th>\n",
       "      <td>Loss</td>\n",
       "    </tr>\n",
       "    <tr>\n",
       "      <th>1</th>\n",
       "      <td>Profit</td>\n",
       "    </tr>\n",
       "    <tr>\n",
       "      <th>2</th>\n",
       "      <td>Loss</td>\n",
       "    </tr>\n",
       "  </tbody>\n",
       "</table>\n",
       "</div>"
      ],
      "text/plain": [
       "  Prediction\n",
       "0       Loss\n",
       "1     Profit\n",
       "2       Loss"
      ]
     },
     "execution_count": 34,
     "metadata": {},
     "output_type": "execute_result"
    }
   ],
   "source": [
    "# Converting the 'final' list into dataframe\n",
    "\n",
    "final = pd.DataFrame({\n",
    "    'Prediction':final\n",
    "})\n",
    "\n",
    "final.head(3)"
   ]
  },
  {
   "cell_type": "code",
   "execution_count": 35,
   "id": "d62c854b",
   "metadata": {},
   "outputs": [],
   "source": [
    "# Concatenating original dataframe and final dataframe\n",
    "\n",
    "df_pred = pd.concat([df,final],axis=1)\n",
    "df_pred.drop(['Unnamed: 0'],axis=1,inplace=True)"
   ]
  },
  {
   "cell_type": "code",
   "execution_count": 36,
   "id": "8adadef3",
   "metadata": {},
   "outputs": [
    {
     "data": {
      "text/html": [
       "<div>\n",
       "<style scoped>\n",
       "    .dataframe tbody tr th:only-of-type {\n",
       "        vertical-align: middle;\n",
       "    }\n",
       "\n",
       "    .dataframe tbody tr th {\n",
       "        vertical-align: top;\n",
       "    }\n",
       "\n",
       "    .dataframe thead th {\n",
       "        text-align: right;\n",
       "    }\n",
       "</style>\n",
       "<table border=\"1\" class=\"dataframe\">\n",
       "  <thead>\n",
       "    <tr style=\"text-align: right;\">\n",
       "      <th></th>\n",
       "      <th>ID</th>\n",
       "      <th>DemAffl</th>\n",
       "      <th>DemAge</th>\n",
       "      <th>DemClusterGroup</th>\n",
       "      <th>DemGender</th>\n",
       "      <th>LoyalClass</th>\n",
       "      <th>LoyalSpend</th>\n",
       "      <th>LoyalTime</th>\n",
       "      <th>Region</th>\n",
       "      <th>TargetBuy</th>\n",
       "      <th>Prediction</th>\n",
       "    </tr>\n",
       "  </thead>\n",
       "  <tbody>\n",
       "    <tr>\n",
       "      <th>0</th>\n",
       "      <td>17147654</td>\n",
       "      <td>5.000000</td>\n",
       "      <td>53.797152</td>\n",
       "      <td>C</td>\n",
       "      <td>F</td>\n",
       "      <td>Tin</td>\n",
       "      <td>0.01</td>\n",
       "      <td>5.000000</td>\n",
       "      <td>London</td>\n",
       "      <td>0</td>\n",
       "      <td>Loss</td>\n",
       "    </tr>\n",
       "    <tr>\n",
       "      <th>1</th>\n",
       "      <td>8415498</td>\n",
       "      <td>15.000000</td>\n",
       "      <td>53.797152</td>\n",
       "      <td>C</td>\n",
       "      <td>M</td>\n",
       "      <td>Gold</td>\n",
       "      <td>8000.00</td>\n",
       "      <td>5.000000</td>\n",
       "      <td>London</td>\n",
       "      <td>1</td>\n",
       "      <td>Profit</td>\n",
       "    </tr>\n",
       "    <tr>\n",
       "      <th>2</th>\n",
       "      <td>12107603</td>\n",
       "      <td>8.676483</td>\n",
       "      <td>53.797152</td>\n",
       "      <td>C</td>\n",
       "      <td>M</td>\n",
       "      <td>Tin</td>\n",
       "      <td>0.01</td>\n",
       "      <td>6.185489</td>\n",
       "      <td>Birmingham</td>\n",
       "      <td>0</td>\n",
       "      <td>Loss</td>\n",
       "    </tr>\n",
       "    <tr>\n",
       "      <th>3</th>\n",
       "      <td>14400995</td>\n",
       "      <td>8.000000</td>\n",
       "      <td>28.000000</td>\n",
       "      <td>C</td>\n",
       "      <td>F</td>\n",
       "      <td>Tin</td>\n",
       "      <td>0.01</td>\n",
       "      <td>6.185489</td>\n",
       "      <td>London</td>\n",
       "      <td>0</td>\n",
       "      <td>Loss</td>\n",
       "    </tr>\n",
       "    <tr>\n",
       "      <th>4</th>\n",
       "      <td>28724674</td>\n",
       "      <td>14.000000</td>\n",
       "      <td>67.000000</td>\n",
       "      <td>C</td>\n",
       "      <td>F</td>\n",
       "      <td>Tin</td>\n",
       "      <td>0.01</td>\n",
       "      <td>7.000000</td>\n",
       "      <td>London</td>\n",
       "      <td>1</td>\n",
       "      <td>Profit</td>\n",
       "    </tr>\n",
       "  </tbody>\n",
       "</table>\n",
       "</div>"
      ],
      "text/plain": [
       "         ID    DemAffl     DemAge DemClusterGroup DemGender LoyalClass  \\\n",
       "0  17147654   5.000000  53.797152               C         F        Tin   \n",
       "1   8415498  15.000000  53.797152               C         M       Gold   \n",
       "2  12107603   8.676483  53.797152               C         M        Tin   \n",
       "3  14400995   8.000000  28.000000               C         F        Tin   \n",
       "4  28724674  14.000000  67.000000               C         F        Tin   \n",
       "\n",
       "   LoyalSpend  LoyalTime      Region  TargetBuy Prediction  \n",
       "0        0.01   5.000000      London          0       Loss  \n",
       "1     8000.00   5.000000      London          1     Profit  \n",
       "2        0.01   6.185489  Birmingham          0       Loss  \n",
       "3        0.01   6.185489      London          0       Loss  \n",
       "4        0.01   7.000000      London          1     Profit  "
      ]
     },
     "execution_count": 36,
     "metadata": {},
     "output_type": "execute_result"
    }
   ],
   "source": [
    "# Final dataframe\n",
    "df_pred.head(5)"
   ]
  },
  {
   "cell_type": "code",
   "execution_count": 38,
   "id": "1f13e6e0",
   "metadata": {},
   "outputs": [
    {
     "name": "stdout",
     "output_type": "stream",
     "text": [
      "Loss      14545\n",
      "Profit     7678\n",
      "Name: Prediction, dtype: int64\n"
     ]
    },
    {
     "data": {
      "image/png": "[encoded data removed]",
      "text/plain": [
       "<Figure size 640x480 with 1 Axes>"
      ]
     },
     "metadata": {},
     "output_type": "display_data"
    }
   ],
   "source": [
    "# Identiying total profit and loss generating customers using stacked barplot\n",
    "\n",
    "print(df_pred['Prediction'].value_counts())\n",
    "df_pred['Prediction'].value_counts().plot(kind='bar')\n",
    "plt.xticks(rotation=0)\n",
    "plt.ylabel('Number of customers')\n",
    "plt.show()\n"
   ]
  },
  {
   "cell_type": "markdown",
   "id": "e8a9ea9d",
   "metadata": {},
   "source": [
    "## From the above analysis, it can be inferred that the number of customers having buying probability above 0.76 is 7678 (35% of total customers). In order to generate Profit, the company should target only these customers."
   ]
  },
  {
   "cell_type": "markdown",
   "id": "4c23a72e",
   "metadata": {},
   "source": [
    "# SAVING THE MODEL AND FINAL DATAFRAME FOR DEPLOYMENT"
   ]
  },
  {
   "cell_type": "code",
   "execution_count": 27,
   "id": "7c3bde46",
   "metadata": {},
   "outputs": [],
   "source": [
    "model.save('ANN_model.h5')"
   ]
  },
  {
   "cell_type": "code",
   "execution_count": 39,
   "id": "fc0eb98f",
   "metadata": {},
   "outputs": [],
   "source": [
    "df_pred.to_csv('Model_based_Profit_data.csv')"
   ]
  }
 ],
 "metadata": {
  "kernelspec": {
   "display_name": "Python 3 (ipykernel)",
   "language": "python",
   "name": "python3"
  },
  "language_info": {
   "codemirror_mode": {
    "name": "ipython",
    "version": 3
   },
   "file_extension": ".py",
   "mimetype": "text/x-python",
   "name": "python",
   "nbconvert_exporter": "python",
   "pygments_lexer": "ipython3",
   "version": "3.10.9"
  }
 },
 "nbformat": 4,
 "nbformat_minor": 5
}
